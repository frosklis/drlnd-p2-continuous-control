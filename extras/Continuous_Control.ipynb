{
 "cells": [
  {
   "cell_type": "markdown",
   "metadata": {},
   "source": [
    "### 4. It's Your Turn!\n",
    "\n",
    "Now it's your turn to train your own agent to solve the environment!  When training the environment, set `train_mode=True`, so that the line for resetting the environment looks like the following:\n",
    "```python\n",
    "env_info = env.reset(train_mode=True)[brain_name]\n",
    "```"
   ]
  },
  {
   "cell_type": "code",
   "execution_count": 1,
   "metadata": {},
   "outputs": [
    {
     "name": "stdout",
     "output_type": "stream",
     "text": [
      "I'm on Linux\n",
      "Using Reacher_Linux_NoVis/Reacher.x86_64\n"
     ]
    }
   ],
   "source": [
    "# environment file\n",
    "import platform\n",
    "whereami = platform.system()\n",
    "print(f\"I'm on {whereami}\")\n",
    "if whereami == 'Darwin':  # Mac\n",
    "    environment_file = 'Reacher_one.app.app'\n",
    "else:\n",
    "    environment_file = 'Reacher_Linux_NoVis/Reacher.x86_64'\n",
    "    \n",
    "print(f'Using {environment_file}')"
   ]
  },
  {
   "cell_type": "code",
   "execution_count": 2,
   "metadata": {},
   "outputs": [
    {
     "name": "stdout",
     "output_type": "stream",
     "text": [
      "True\n",
      "make: `Reacher_Linux_NoVis' is up to date.\n"
     ]
    }
   ],
   "source": [
    "env = None\n",
    "import torch\n",
    "print(torch.torch.cuda.is_available())\n",
    "!make Reacher_Linux_NoVis"
   ]
  },
  {
   "cell_type": "code",
   "execution_count": null,
   "metadata": {},
   "outputs": [
    {
     "name": "stderr",
     "output_type": "stream",
     "text": [
      "2020-05-16 11:19:57,411|INFO|continuous|Reacher environment\n",
      "INFO:continuous:Reacher environment\n",
      "INFO:unityagents:\n",
      "'Academy' started successfully!\n",
      "Unity Academy name: Academy\n",
      "        Number of Brains: 1\n",
      "        Number of External Brains : 1\n",
      "        Lesson number : 0\n",
      "        Reset Parameters :\n",
      "\t\tgoal_speed -> 1.0\n",
      "\t\tgoal_size -> 5.0\n",
      "Unity brain name: ReacherBrain\n",
      "        Number of Visual Observations (per agent): 0\n",
      "        Vector Observation space type: continuous\n",
      "        Vector Observation space size (per agent): 33\n",
      "        Number of stacked Vector Observation: 1\n",
      "        Vector Action space type: continuous\n",
      "        Vector Action space size (per agent): 4\n",
      "        Vector Action descriptions: , , , \n",
      "2020-05-16 11:20:00,012|INFO|continuous|Starting training for DDPG Agent\n",
      "INFO:continuous:Starting training for DDPG Agent\n",
      "2020-05-16 11:20:00,040|WARNING|continuous|Model class method not implemented. Moving on regardless.\n",
      "WARNING:continuous:Model class method not implemented. Moving on regardless.\n",
      "2020-05-16 11:20:04,958|DEBUG|continuous|Episode     1: 0.180000\n",
      "DEBUG:continuous:Episode     1: 0.180000\n",
      "2020-05-16 11:20:10,122|DEBUG|continuous|Episode     2: 0.400000\n",
      "DEBUG:continuous:Episode     2: 0.400000\n",
      "2020-05-16 11:20:15,362|DEBUG|continuous|Episode     3: 0.210000\n",
      "DEBUG:continuous:Episode     3: 0.210000\n",
      "2020-05-16 11:20:20,576|DEBUG|continuous|Episode     4: 0.320000\n",
      "DEBUG:continuous:Episode     4: 0.320000\n",
      "2020-05-16 11:20:25,837|DEBUG|continuous|Episode     5: 0.700000\n",
      "DEBUG:continuous:Episode     5: 0.700000\n",
      "2020-05-16 11:20:31,527|DEBUG|continuous|Episode     6: 1.000000\n",
      "DEBUG:continuous:Episode     6: 1.000000\n",
      "2020-05-16 11:20:36,728|DEBUG|continuous|Episode     7: 0.110000\n",
      "DEBUG:continuous:Episode     7: 0.110000\n",
      "2020-05-16 11:20:41,973|DEBUG|continuous|Episode     8: 0.140000\n",
      "DEBUG:continuous:Episode     8: 0.140000\n",
      "2020-05-16 11:20:47,192|DEBUG|continuous|Episode     9: 0.270000\n",
      "DEBUG:continuous:Episode     9: 0.270000\n",
      "2020-05-16 11:20:52,485|DEBUG|continuous|Episode    10: 0.000000\n",
      "DEBUG:continuous:Episode    10: 0.000000\n",
      "2020-05-16 11:20:57,707|DEBUG|continuous|Episode    11: 0.160000\n",
      "DEBUG:continuous:Episode    11: 0.160000\n",
      "2020-05-16 11:21:03,008|DEBUG|continuous|Episode    12: 0.420000\n",
      "DEBUG:continuous:Episode    12: 0.420000\n"
     ]
    }
   ],
   "source": [
    "import sys\n",
    "sys.path.append('../')\n",
    "from unityagents import UnityEnvironment\n",
    "\n",
    "from continuous import logger\n",
    "from continuous.agents import DDPG_Agent\n",
    "from continuous.environment import UnityAdapter\n",
    "from continuous.problem import moving_average, loggable, moving_average_cross\n",
    "\n",
    "import numpy as np\n",
    "\n",
    "import mlflow\n",
    "mlflow.set_tracking_uri('file:../mlruns_aws')\n",
    "mlflow.end_run()\n",
    "\n",
    "\n",
    "logger.info('Reacher environment')\n",
    "if env is None:\n",
    "    env = UnityAdapter(\n",
    "        UnityEnvironment(\n",
    "            file_name=environment_file,\n",
    "            no_graphics=True,\n",
    "        ),\n",
    "        name=\"continuous_1\")\n",
    "# state_size=33, action_size=4,\n",
    "agent = DDPG_Agent(\n",
    "    env, seed=0,\n",
    "    is_finished_function=[loggable(moving_average_cross, 100, 200), loggable(moving_average, 100, 30)],\n",
    "    is_solved=loggable(moving_average, 100, 13),\n",
    "    epsilon_update=loggable(lambda x: x),\n",
    "    update_every=4,\n",
    "    update_times=1,\n",
    "    lr_actor=1e-4,\n",
    "    lr_critic=3e-4,\n",
    "    weight_decay=0.0,\n",
    "    gamma=0.99,\n",
    "    buffer_size=int(1e6)\n",
    "    )\n",
    "\n",
    "mlflow.set_experiment(agent.environment.name)\n",
    "mlflow.start_run()\n",
    "\n",
    "scores = agent.train(\n",
    "    max_training_episodes=2000)\n",
    "# env.close()\n",
    "logger.info(scores)\n",
    "\n",
    "    # there are a LOT of meta parameters\n"
   ]
  },
  {
   "cell_type": "code",
   "execution_count": null,
   "metadata": {},
   "outputs": [],
   "source": [
    "agent.train(\n",
    "    max_training_episodes=5,)"
   ]
  },
  {
   "cell_type": "code",
   "execution_count": null,
   "metadata": {},
   "outputs": [],
   "source": [
    "mlflow.end_run()"
   ]
  },
  {
   "cell_type": "code",
   "execution_count": null,
   "metadata": {},
   "outputs": [],
   "source": []
  }
 ],
 "metadata": {
  "kernelspec": {
   "display_name": "conda_udacity",
   "language": "python",
   "name": "udacity"
  },
  "language_info": {
   "codemirror_mode": {
    "name": "ipython",
    "version": 3
   },
   "file_extension": ".py",
   "mimetype": "text/x-python",
   "name": "python",
   "nbconvert_exporter": "python",
   "pygments_lexer": "ipython3",
   "version": "3.6.10"
  }
 },
 "nbformat": 4,
 "nbformat_minor": 4
}
