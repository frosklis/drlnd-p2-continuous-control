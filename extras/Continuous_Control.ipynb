{
 "cells": [
  {
   "cell_type": "markdown",
   "metadata": {},
   "source": [
    "### 4. It's Your Turn!\n",
    "\n",
    "Now it's your turn to train your own agent to solve the environment!  When training the environment, set `train_mode=True`, so that the line for resetting the environment looks like the following:\n",
    "```python\n",
    "env_info = env.reset(train_mode=True)[brain_name]\n",
    "```"
   ]
  },
  {
   "cell_type": "code",
   "execution_count": 1,
   "metadata": {},
   "outputs": [
    {
     "name": "stdout",
     "output_type": "stream",
     "text": [
      "I'm on Darwin\n",
      "Using Reacher_one.app.app\n"
     ]
    }
   ],
   "source": [
    "# environment file\n",
    "import platform\n",
    "whereami = platform.system()\n",
    "print(f\"I'm on {whereami}\")\n",
    "if whereami == 'Darwin':  # Mac\n",
    "    environment_file = 'Reacher_one.app.app'\n",
    "else:\n",
    "    environment_file = 'Reacher_Linux_NoVis/Reacher.x86_64'\n",
    "    \n",
    "print(f'Using {environment_file}')"
   ]
  },
  {
   "cell_type": "code",
   "execution_count": 2,
   "metadata": {},
   "outputs": [
    {
     "name": "stdout",
     "output_type": "stream",
     "text": [
      "False\n",
      "make: `Reacher_Linux_NoVis' is up to date.\r\n"
     ]
    }
   ],
   "source": [
    "env = None\n",
    "import torch\n",
    "print(torch.torch.cuda.is_available())\n",
    "!make Reacher_Linux_NoVis"
   ]
  },
  {
   "cell_type": "code",
   "execution_count": 3,
   "metadata": {},
   "outputs": [
    {
     "name": "stderr",
     "output_type": "stream",
     "text": [
      "2020-05-09 17:14:30,519|INFO|continuous|Reacher environment\n",
      "INFO:continuous:Reacher environment\n",
      "INFO:unityagents:\n",
      "'Academy' started successfully!\n",
      "Unity Academy name: Academy\n",
      "        Number of Brains: 1\n",
      "        Number of External Brains : 1\n",
      "        Lesson number : 0\n",
      "        Reset Parameters :\n",
      "\t\tgoal_speed -> 1.0\n",
      "\t\tgoal_size -> 5.0\n",
      "Unity brain name: ReacherBrain\n",
      "        Number of Visual Observations (per agent): 0\n",
      "        Vector Observation space type: continuous\n",
      "        Vector Observation space size (per agent): 33\n",
      "        Number of stacked Vector Observation: 1\n",
      "        Vector Action space type: continuous\n",
      "        Vector Action space size (per agent): 4\n",
      "        Vector Action descriptions: , , , \n",
      "2020-05-09 17:14:31,817|INFO|continuous|Starting training for DDPG Agent\n",
      "INFO:continuous:Starting training for DDPG Agent\n",
      "2020-05-09 17:14:31,990|WARNING|continuous|Model class method not implemented. Moving on regardless.\n",
      "WARNING:continuous:Model class method not implemented. Moving on regardless.\n",
      "2020-05-09 17:15:21,051|DEBUG|continuous|Episode     1: 0.100000\n",
      "DEBUG:continuous:Episode     1: 0.100000\n",
      "2020-05-09 17:16:00,493|DEBUG|continuous|Episode     2: 0.700000\n",
      "DEBUG:continuous:Episode     2: 0.700000\n",
      "2020-05-09 17:16:37,939|DEBUG|continuous|Episode     3: 1.280000\n",
      "DEBUG:continuous:Episode     3: 1.280000\n",
      "2020-05-09 17:17:26,140|DEBUG|continuous|Episode     4: 0.920000\n",
      "DEBUG:continuous:Episode     4: 0.920000\n",
      "2020-05-09 17:18:06,451|DEBUG|continuous|Episode     5: 0.440000\n",
      "DEBUG:continuous:Episode     5: 0.440000\n",
      "2020-05-09 17:18:06,569|INFO|continuous|DDPG Agent trained finished after 5 episodes\n",
      "INFO:continuous:DDPG Agent trained finished after 5 episodes\n",
      "2020-05-09 17:18:06,619|DEBUG|continuous|Saving to model_final.pkl\n",
      "DEBUG:continuous:Saving to model_final.pkl\n",
      "2020-05-09 17:18:06,649|WARNING|continuous|Model class method not implemented. Moving on regardless.\n",
      "WARNING:continuous:Model class method not implemented. Moving on regardless.\n",
      "2020-05-09 17:18:06,761|INFO|continuous|False\n",
      "INFO:continuous:False\n"
     ]
    }
   ],
   "source": [
    "import sys\n",
    "sys.path.append('../')\n",
    "from unityagents import UnityEnvironment\n",
    "\n",
    "from continuous import logger\n",
    "from continuous.agents import DDPG_Agent\n",
    "from continuous.environment import UnityAdapter\n",
    "from continuous.problem import moving_average, loggable, moving_average_cross\n",
    "\n",
    "import numpy as np\n",
    "\n",
    "import mlflow\n",
    "mlflow.set_tracking_uri('file:../mlruns')\n",
    "mlflow.end_run()\n",
    "\n",
    "\n",
    "logger.info('Reacher environment')\n",
    "if env is None:\n",
    "    env = UnityAdapter(\n",
    "        UnityEnvironment(\n",
    "            file_name=environment_file,\n",
    "            no_graphics=True,\n",
    "        ),\n",
    "        name=\"continuous_1\")\n",
    "# state_size=33, action_size=4,\n",
    "agent = DDPG_Agent(\n",
    "    env, seed=0,\n",
    "    is_finished_function=[loggable(moving_average_cross, 100, 200), loggable(moving_average, 100, 30)],\n",
    "    is_solved=loggable(moving_average, 100, 13),\n",
    "    epsilon_update=loggable(lambda x: x),\n",
    "    update_every=10,\n",
    "    update_times=20\n",
    "    )\n",
    "\n",
    "mlflow.set_experiment(agent.environment.name)\n",
    "mlflow.start_run()\n",
    "\n",
    "scores = agent.train(\n",
    "    max_training_episodes=5)\n",
    "# env.close()\n",
    "logger.info(scores)\n",
    "\n",
    "    # there are a LOT of meta parameters\n"
   ]
  },
  {
   "cell_type": "code",
   "execution_count": 4,
   "metadata": {},
   "outputs": [
    {
     "name": "stderr",
     "output_type": "stream",
     "text": [
      "2020-05-09 17:18:06,847|INFO|continuous|Starting training for DDPG Agent\n",
      "INFO:continuous:Starting training for DDPG Agent\n",
      "2020-05-09 17:18:07,028|WARNING|continuous|Model class method not implemented. Moving on regardless.\n",
      "WARNING:continuous:Model class method not implemented. Moving on regardless.\n",
      "2020-05-09 17:18:49,437|DEBUG|continuous|Episode     6: 0.260000\n",
      "DEBUG:continuous:Episode     6: 0.260000\n",
      "2020-05-09 17:19:28,937|DEBUG|continuous|Episode     7: 0.450000\n",
      "DEBUG:continuous:Episode     7: 0.450000\n",
      "2020-05-09 17:20:08,105|DEBUG|continuous|Episode     8: 0.210000\n",
      "DEBUG:continuous:Episode     8: 0.210000\n",
      "2020-05-09 17:20:46,382|DEBUG|continuous|Episode     9: 0.130000\n",
      "DEBUG:continuous:Episode     9: 0.130000\n",
      "2020-05-09 17:21:26,368|DEBUG|continuous|Episode    10: 0.200000\n",
      "DEBUG:continuous:Episode    10: 0.200000\n",
      "2020-05-09 17:21:26,414|INFO|continuous|DDPG Agent trained finished after 10 episodes\n",
      "INFO:continuous:DDPG Agent trained finished after 10 episodes\n",
      "2020-05-09 17:21:26,476|DEBUG|continuous|Saving to model_final.pkl\n",
      "DEBUG:continuous:Saving to model_final.pkl\n",
      "2020-05-09 17:21:26,511|WARNING|continuous|Model class method not implemented. Moving on regardless.\n",
      "WARNING:continuous:Model class method not implemented. Moving on regardless.\n"
     ]
    },
    {
     "data": {
      "text/plain": [
       "False"
      ]
     },
     "execution_count": 4,
     "metadata": {},
     "output_type": "execute_result"
    }
   ],
   "source": [
    "agent.train(\n",
    "    max_training_episodes=5,)"
   ]
  },
  {
   "cell_type": "code",
   "execution_count": 5,
   "metadata": {},
   "outputs": [],
   "source": [
    "mlflow.end_run()"
   ]
  },
  {
   "cell_type": "code",
   "execution_count": null,
   "metadata": {},
   "outputs": [],
   "source": []
  }
 ],
 "metadata": {
  "kernelspec": {
   "display_name": "drlnd-p2-continuous-control",
   "language": "python",
   "name": "drlnd-p2-continuous-control"
  },
  "language_info": {
   "codemirror_mode": {
    "name": "ipython",
    "version": 3
   },
   "file_extension": ".py",
   "mimetype": "text/x-python",
   "name": "python",
   "nbconvert_exporter": "python",
   "pygments_lexer": "ipython3",
   "version": "3.6.10"
  }
 },
 "nbformat": 4,
 "nbformat_minor": 4
}
